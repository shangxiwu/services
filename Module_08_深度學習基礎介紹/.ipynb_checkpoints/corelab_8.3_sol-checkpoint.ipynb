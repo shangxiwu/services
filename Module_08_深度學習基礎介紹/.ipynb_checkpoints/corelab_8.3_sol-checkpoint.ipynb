{
 "cells": [
  {
   "cell_type": "markdown",
   "metadata": {},
   "source": [
    "# Numpy的使用\n",
    "## 在Tensorflow中我們會大量使用到numpy的陣列，請依照以下提示找出陣列的各種資訊"
   ]
  },
  {
   "cell_type": "code",
   "execution_count": 1,
   "metadata": {},
   "outputs": [],
   "source": [
    "import numpy as np"
   ]
  },
  {
   "cell_type": "markdown",
   "metadata": {},
   "source": [
    "## 請建立1個3x5，元素由0~14的ndarray A，並找出該陣列的中位數、平均值與最大最小值"
   ]
  },
  {
   "cell_type": "code",
   "execution_count": 2,
   "metadata": {},
   "outputs": [
    {
     "name": "stdout",
     "output_type": "stream",
     "text": [
      "平均值: 7\n",
      "中位數: 7\n",
      "最大值: 14\n",
      "最小值: 0\n"
     ]
    }
   ],
   "source": [
    "A = np.arange(15).reshape(3, 5)\n",
    "print('平均值: %d' % np.average(A))\n",
    "print('中位數: %d' % np.median(A))\n",
    "print('最大值: %d' % np.max(A))\n",
    "print('最小值: %d' % np.min(A))"
   ]
  },
  {
   "cell_type": "code",
   "execution_count": null,
   "metadata": {},
   "outputs": [],
   "source": []
  }
 ],
 "metadata": {
  "kernelspec": {
   "display_name": "Python 3",
   "language": "python",
   "name": "python3"
  },
  "language_info": {
   "codemirror_mode": {
    "name": "ipython",
    "version": 3
   },
   "file_extension": ".py",
   "mimetype": "text/x-python",
   "name": "python",
   "nbconvert_exporter": "python",
   "pygments_lexer": "ipython3",
   "version": "3.7.6"
  }
 },
 "nbformat": 4,
 "nbformat_minor": 4
}
