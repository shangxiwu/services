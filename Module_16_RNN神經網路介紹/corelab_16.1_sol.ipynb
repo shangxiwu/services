{
 "cells": [
  {
   "attachments": {},
   "cell_type": "markdown",
   "metadata": {},
   "source": [
    "# unstack數據組\n",
    "## 給予一個數據組，針對軸0取unstack"
   ]
  },
  {
   "cell_type": "code",
   "execution_count": 2,
   "metadata": {},
   "outputs": [
    {
     "name": "stdout",
     "output_type": "stream",
     "text": [
      "before unstack......\n",
      "[[-0.7  2. ]\n",
      " [-0.3  7. ]\n",
      " [ 0.5  0.8]]\n",
      "after unstack......\n",
      "[-0.7  2. ]\n",
      "[-0.3  7. ]\n",
      "[0.5 0.8]\n"
     ]
    }
   ],
   "source": [
    "import tensorflow as tf\n",
    "x = tf.constant([[-0.7,2],[-0.3,7],[0.5,0.8]], name='x')\n",
    "axis0_x = tf.unstack(x, axis=0)\n",
    "\n",
    "with tf.Session() as sess:\n",
    "    sess.run(tf.global_variables_initializer())\n",
    "    x_, axis0_ = sess.run([x, axis0_x])\n",
    "    print('before unstack......')\n",
    "    print(x_)\n",
    "    print('after unstack......')\n",
    "    print(axis0_[0])\n",
    "    print(axis0_[1])\n",
    "    print(axis0_[2])"
   ]
  },
  {
   "cell_type": "code",
   "execution_count": null,
   "metadata": {},
   "outputs": [],
   "source": []
  }
 ],
 "metadata": {
  "kernelspec": {
   "display_name": "Python 3",
   "language": "python",
   "name": "python3"
  },
  "language_info": {
   "codemirror_mode": {
    "name": "ipython",
    "version": 3
   },
   "file_extension": ".py",
   "mimetype": "text/x-python",
   "name": "python",
   "nbconvert_exporter": "python",
   "pygments_lexer": "ipython3",
   "version": "3.6.10"
  }
 },
 "nbformat": 4,
 "nbformat_minor": 2
}
