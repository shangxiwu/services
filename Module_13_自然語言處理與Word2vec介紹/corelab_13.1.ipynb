{
 "cells": [
  {
   "cell_type": "markdown",
   "metadata": {},
   "source": [
    "# 給予一個中文句子，使用jeiba斷詞斷出來\n",
    "## 使用精確模式"
   ]
  },
  {
   "cell_type": "code",
   "execution_count": 2,
   "metadata": {},
   "outputs": [
    {
     "name": "stdout",
     "output_type": "stream",
     "text": [
      "輸入： 人工智慧的核心問題包括建構能夠跟人類似甚至超卓的推理、知識、規劃、學習、交流、感知、移物、使用工具和操控機械的能力等\n",
      "精確模式： 人工智慧/的/核心/問題/包括/建構/能夠/跟/人類/似/甚至/超卓/的/推理/、/知識/、/規劃/、/學習/、/交流/、/感知/、/移物/、/使用/工具/和/操控/機械/的/能力/等/"
     ]
    }
   ],
   "source": [
    "import jieba\n",
    "\n",
    "sentence = \"人工智慧的核心問題包括建構能夠跟人類似甚至超卓的推理、知識、規劃、學習、交流、感知、移物、使用工具和操控機械的能力等\"\n",
    "print(\"輸入： {}\".format(sentence))\n",
    "\n",
    "## write your code here\n",
    "\n",
    "print(\"精確模式：\", end=' ')\n",
    "for word in words1:\n",
    "    print(word+'/', end='')\n"
   ]
  },
  {
   "cell_type": "code",
   "execution_count": null,
   "metadata": {},
   "outputs": [],
   "source": []
  }
 ],
 "metadata": {
  "kernelspec": {
   "display_name": "Python 3",
   "language": "python",
   "name": "python3"
  },
  "language_info": {
   "codemirror_mode": {
    "name": "ipython",
    "version": 3
   },
   "file_extension": ".py",
   "mimetype": "text/x-python",
   "name": "python",
   "nbconvert_exporter": "python",
   "pygments_lexer": "ipython3",
   "version": "3.6.10"
  }
 },
 "nbformat": 4,
 "nbformat_minor": 2
}
