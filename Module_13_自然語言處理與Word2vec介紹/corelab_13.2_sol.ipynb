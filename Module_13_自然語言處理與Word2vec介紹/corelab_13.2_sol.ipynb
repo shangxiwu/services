{
 "cells": [
  {
   "attachments": {},
   "cell_type": "markdown",
   "metadata": {},
   "source": [
    "# 給予一個英文語料庫，使用scikit-learn做bag of words(基礎)"
   ]
  },
  {
   "cell_type": "code",
   "execution_count": 1,
   "metadata": {},
   "outputs": [
    {
     "name": "stdout",
     "output_type": "stream",
     "text": [
      "Vocabulary size: 16\n",
      "Vocabulary content:\n",
      " {'the': 11, 'fool': 5, 'doth': 4, 'think': 12, 'he': 6, 'is': 8, 'wise': 15, 'but': 3, 'man': 10, 'knows': 9, 'himself': 7, 'to': 14, 'be': 2, 'this': 13, 'an': 0, 'apple': 1}\n",
      "Features name:\n",
      "['an', 'apple', 'be', 'but', 'doth', 'fool', 'he', 'himself', 'is', 'knows', 'man', 'the', 'think', 'this', 'to', 'wise']\n",
      "Dense representation of bag_of_words:\n",
      "[[0 0 0 0 1 1 1 0 1 0 0 1 1 0 0 1]\n",
      " [0 0 1 1 0 1 0 1 0 1 1 1 0 0 1 1]\n",
      " [1 1 0 0 0 0 0 0 1 0 0 0 0 1 0 0]]\n"
     ]
    }
   ],
   "source": [
    "from sklearn.feature_extraction.text import CountVectorizer\n",
    "bards_words =[\"The fool doth think he is wise,\",\n",
    "              \"but the wise man knows himself to be a fool\",\n",
    "              \"this is an apple\"]\n",
    "\n",
    "# CountVectorizer(stop_words=\"english\")\n",
    "vect = CountVectorizer()\n",
    "vect.fit(bards_words)\n",
    "\n",
    "\n",
    "print(\"Vocabulary size: {}\".format(len(vect.vocabulary_)))\n",
    "print(\"Vocabulary content:\\n {}\".format(vect.vocabulary_))\n",
    "\n",
    "bag_of_words = vect.transform(bards_words)\n",
    "print(\"Features name:\\n{}\".format(vect.get_feature_names()))\n",
    "print(\"Dense representation of bag_of_words:\\n{}\".format(bag_of_words.toarray()))"
   ]
  },
  {
   "cell_type": "code",
   "execution_count": null,
   "metadata": {},
   "outputs": [],
   "source": []
  }
 ],
 "metadata": {
  "kernelspec": {
   "display_name": "Python 3",
   "language": "python",
   "name": "python3"
  },
  "language_info": {
   "codemirror_mode": {
    "name": "ipython",
    "version": 3
   },
   "file_extension": ".py",
   "mimetype": "text/x-python",
   "name": "python",
   "nbconvert_exporter": "python",
   "pygments_lexer": "ipython3",
   "version": "3.6.10"
  }
 },
 "nbformat": 4,
 "nbformat_minor": 2
}
