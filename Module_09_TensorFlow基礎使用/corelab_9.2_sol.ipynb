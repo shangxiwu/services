{
 "cells": [
  {
   "cell_type": "markdown",
   "metadata": {},
   "source": [
    "# Tensorflow的使用"
   ]
  },
  {
   "cell_type": "code",
   "execution_count": 1,
   "metadata": {},
   "outputs": [],
   "source": [
    "import tensorflow as tf"
   ]
  },
  {
   "cell_type": "markdown",
   "metadata": {},
   "source": [
    "## 請使用tf.session的方式計算A與B的四則運算\n",
    "\n",
    "### 除法請取到小數點第3位"
   ]
  },
  {
   "cell_type": "code",
   "execution_count": 2,
   "metadata": {},
   "outputs": [
    {
     "name": "stdout",
     "output_type": "stream",
     "text": [
      "A + B = 2513\n",
      "A - B = 1977\n",
      "A x B = 601660\n",
      "A / B = 8.377\n"
     ]
    }
   ],
   "source": [
    "A = 2245\n",
    "B = 268\n",
    "\n",
    "A = tf.constant(A)\n",
    "B = tf.constant(B)\n",
    "\n",
    "tf_add = tf.add(A, B)\n",
    "tf_subtract = tf.subtract(A, B)\n",
    "tf_multiply = tf.multiply(A, B)\n",
    "tf_divide = tf.divide(A, B)\n",
    "\n",
    "with tf.Session() as sess:\n",
    "    print(\"A + B = %d\" % sess.run(tf_add))\n",
    "    print(\"A - B = %d\" % sess.run(tf_subtract))\n",
    "    print(\"A x B = %d\" % sess.run(tf_multiply))\n",
    "    print(\"A / B = %.3f\" % sess.run(tf_divide))"
   ]
  },
  {
   "cell_type": "code",
   "execution_count": null,
   "metadata": {},
   "outputs": [],
   "source": []
  }
 ],
 "metadata": {
  "kernelspec": {
   "display_name": "Python 3",
   "language": "python",
   "name": "python3"
  },
  "language_info": {
   "codemirror_mode": {
    "name": "ipython",
    "version": 3
   },
   "file_extension": ".py",
   "mimetype": "text/x-python",
   "name": "python",
   "nbconvert_exporter": "python",
   "pygments_lexer": "ipython3",
   "version": "3.6.10"
  }
 },
 "nbformat": 4,
 "nbformat_minor": 4
}
