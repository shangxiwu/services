{
 "cells": [
  {
   "cell_type": "markdown",
   "metadata": {},
   "source": [
    "# Tensorflow的使用"
   ]
  },
  {
   "cell_type": "code",
   "execution_count": 2,
   "metadata": {},
   "outputs": [],
   "source": [
    "import tensorflow as tf"
   ]
  },
  {
   "cell_type": "markdown",
   "metadata": {},
   "source": [
    "## 請使用tf.session的方式計算A與B的四則運算，並分別印出\n",
    "\n",
    "### 除法請取到小數點第3位"
   ]
  },
  {
   "cell_type": "code",
   "execution_count": 3,
   "metadata": {},
   "outputs": [
    {
     "name": "stdout",
     "output_type": "stream",
     "text": [
      "WARNING:tensorflow:From <ipython-input-3-412743627b54>:10: div (from tensorflow.python.ops.math_ops) is deprecated and will be removed in a future version.\n",
      "Instructions for updating:\n",
      "Deprecated in favor of operator or tf.math.divide.\n"
     ]
    }
   ],
   "source": [
    "A = 2245\n",
    "B = 268\n",
    "\n",
    "A = tf.constant(A)\n",
    "B = tf.constant(B)\n",
    "\n",
    "tf_add = tf.add(A,B)\n",
    "tf_subtract = tf.subtract(A,B)\n",
    "tf_multuply = tf.multiply(A,B)\n",
    "tf_div = tf.div(A,B)\n",
    "\n"
   ]
  },
  {
   "cell_type": "code",
   "execution_count": 16,
   "metadata": {},
   "outputs": [
    {
     "name": "stdout",
     "output_type": "stream",
     "text": [
      "A + B = 2513\n",
      "A - B = 1977\n",
      "A x B = 601660\n",
      "A / B = 8.000\n"
     ]
    }
   ],
   "source": [
    "with tf.Session() as sess:\n",
    "    print(\"A + B = %d\" % sess.run(tf_add))\n",
    "    print(\"A - B = %d\" % sess.run(tf_subtract))\n",
    "    print(\"A x B = %d\" % sess.run(tf_multuply))\n",
    "    print(\"A / B = %.3f\" % sess.run(tf_div))"
   ]
  }
 ],
 "metadata": {
  "kernelspec": {
   "display_name": "Python 3",
   "language": "python",
   "name": "python3"
  },
  "language_info": {
   "codemirror_mode": {
    "name": "ipython",
    "version": 3
   },
   "file_extension": ".py",
   "mimetype": "text/x-python",
   "name": "python",
   "nbconvert_exporter": "python",
   "pygments_lexer": "ipython3",
   "version": "3.6.10"
  }
 },
 "nbformat": 4,
 "nbformat_minor": 4
}
