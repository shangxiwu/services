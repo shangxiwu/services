{
 "cells": [
  {
   "cell_type": "markdown",
   "metadata": {},
   "source": [
    "# TensorFlow的矩陣操作"
   ]
  },
  {
   "cell_type": "code",
   "execution_count": 1,
   "metadata": {},
   "outputs": [],
   "source": [
    "import tensorflow as tf"
   ]
  },
  {
   "cell_type": "markdown",
   "metadata": {},
   "source": [
    "## 請依照以下提示建立兩個tf.constant的矩陣，並輸出相乘結果"
   ]
  },
  {
   "cell_type": "code",
   "execution_count": 2,
   "metadata": {},
   "outputs": [
    {
     "name": "stdout",
     "output_type": "stream",
     "text": [
      "matrix multiplication: [[-29.699999  14.599999]\n",
      " [ 36.       -20.      ]]\n",
      "\n"
     ]
    }
   ],
   "source": [
    "matrix1 = tf.constant([[-1, 2.1],[1, -3]], name='matrix1', dtype=tf.float32)\n",
    "matrix2 = tf.constant([[15, -2],[-7, 6]], name='matrix2', dtype=tf.float32)\n",
    "\n",
    "result = tf.matmul(matrix1, matrix2)\n",
    "\n",
    "with tf.Session() as sess: \n",
    "    print(\"matrix multiplication: {}\\n\".format(sess.run(result)))"
   ]
  },
  {
   "cell_type": "code",
   "execution_count": null,
   "metadata": {},
   "outputs": [],
   "source": []
  }
 ],
 "metadata": {
  "kernelspec": {
   "display_name": "Python 3",
   "language": "python",
   "name": "python3"
  },
  "language_info": {
   "codemirror_mode": {
    "name": "ipython",
    "version": 3
   },
   "file_extension": ".py",
   "mimetype": "text/x-python",
   "name": "python",
   "nbconvert_exporter": "python",
   "pygments_lexer": "ipython3",
   "version": "3.6.10"
  }
 },
 "nbformat": 4,
 "nbformat_minor": 4
}
