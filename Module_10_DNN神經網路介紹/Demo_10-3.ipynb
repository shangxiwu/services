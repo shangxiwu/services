{
 "cells": [
  {
   "cell_type": "markdown",
   "metadata": {},
   "source": [
    "## MNIST 使用\n",
    "MNIST is a computer vision dataset. It consists of black and white images from zero to nine. Each image is 28 * 28 and have been flatten to 784 dimension vector. Also, it includes labels for each image, telling us which digit it is.\n",
    "\n",
    "![Alt text](./images/dnn_implement/Selection_017.png)\n",
    "![Alt text](./images/dnn_implement/Selection_018.png)\n",
    "\n",
    "\n",
    "The MNIST data is split into three parts: \n",
    "1. 55000 training data (mnist.train) with a shape of [55000, 784]\n",
    "2. 10000 test data (mnist.test) with a shape of [10000, 784]\n",
    "3. 5000 validation data (mnist.validation) with a shape of [5000, 784]\n",
    "\n",
    "you can access:  \n",
    "training image as `mnist.train.images` (see below picture)  \n",
    "training label as `mnist.train.labels` (see below picture)  \n",
    "test image as `mnist.test.images`   \n",
    "test label as `mnist.test.labels`   \n",
    "\n",
    "Note that label is encoded as \"one-hot vectors\", which mean if the target image is 2, the label should be [0,0,1,0,0,0,0,0,0,0]\n",
    "\n",
    "\n",
    "![Alt text](./images/dnn_implement/Selection_021.png)\n",
    "![Alt text](./images/dnn_implement/Selection_020.png)"
   ]
  },
  {
   "cell_type": "code",
   "execution_count": 2,
   "metadata": {},
   "outputs": [
    {
     "ename": "TypeError",
     "evalue": "get_verbosity() takes 0 positional arguments but 1 was given",
     "output_type": "error",
     "traceback": [
      "\u001b[1;31m---------------------------------------------------------------------------\u001b[0m",
      "\u001b[1;31mTypeError\u001b[0m                                 Traceback (most recent call last)",
      "\u001b[1;32m<ipython-input-2-c448120c4332>\u001b[0m in \u001b[0;36m<module>\u001b[1;34m\u001b[0m\n\u001b[0;32m      2\u001b[0m \u001b[1;31m# from tensorflow.examples.tutorials.mnist import input_data\u001b[0m\u001b[1;33m\u001b[0m\u001b[1;33m\u001b[0m\u001b[1;33m\u001b[0m\u001b[0m\n\u001b[0;32m      3\u001b[0m \u001b[0mold_v\u001b[0m\u001b[1;33m=\u001b[0m\u001b[0mtf\u001b[0m\u001b[1;33m.\u001b[0m\u001b[0mlogging\u001b[0m\u001b[1;33m.\u001b[0m\u001b[0mget_verbosity\u001b[0m\u001b[1;33m(\u001b[0m\u001b[1;33m)\u001b[0m\u001b[1;33m\u001b[0m\u001b[1;33m\u001b[0m\u001b[0m\n\u001b[1;32m----> 4\u001b[1;33m \u001b[0mtf\u001b[0m\u001b[1;33m.\u001b[0m\u001b[0mlogging\u001b[0m\u001b[1;33m.\u001b[0m\u001b[0mget_verbosity\u001b[0m\u001b[1;33m(\u001b[0m\u001b[0mtf\u001b[0m\u001b[1;33m.\u001b[0m\u001b[0mlogging\u001b[0m\u001b[1;33m.\u001b[0m\u001b[0mERROR\u001b[0m\u001b[1;33m)\u001b[0m\u001b[1;33m\u001b[0m\u001b[1;33m\u001b[0m\u001b[0m\n\u001b[0m\u001b[0;32m      5\u001b[0m \u001b[1;33m\u001b[0m\u001b[0m\n\u001b[0;32m      6\u001b[0m \u001b[0mtf\u001b[0m\u001b[1;33m.\u001b[0m\u001b[0mreset_default_graph\u001b[0m\u001b[1;33m(\u001b[0m\u001b[1;33m)\u001b[0m\u001b[1;33m\u001b[0m\u001b[1;33m\u001b[0m\u001b[0m\n",
      "\u001b[1;31mTypeError\u001b[0m: get_verbosity() takes 0 positional arguments but 1 was given"
     ]
    }
   ],
   "source": [
    "import tensorflow as tf\n",
    "# from tensorflow.examples.tutorials.mnist import input_data\n",
    "old_v=tf.logging.get_verbosity()\n",
    "tf.logging.get_verbosity(tf.logging.ERROR)\n",
    "\n",
    "tf.reset_default_graph()\n",
    "\n",
    "# Load mnist dataset\n",
    "mnist = input_data.read_data_sets('MNIST_data', one_hot=True)\n",
    "\n",
    "batch_xs, batch_ys = mnist.train.next_batch(5)\n",
    "\n",
    "print('first 5 labels {}:\\n'.format(batch_ys))\n",
    "print('first 5 images {}:\\n'.format(batch_xs))\n"
   ]
  },
  {
   "cell_type": "markdown",
   "metadata": {},
   "source": [
    "# 建立簡單模型"
   ]
  },
  {
   "cell_type": "code",
   "execution_count": 12,
   "metadata": {},
   "outputs": [
    {
     "name": "stdout",
     "output_type": "stream",
     "text": [
      "Extracting MNIST_data\\train-images-idx3-ubyte.gz\n",
      "Extracting MNIST_data\\train-labels-idx1-ubyte.gz\n",
      "Extracting MNIST_data\\t10k-images-idx3-ubyte.gz\n",
      "Extracting MNIST_data\\t10k-labels-idx1-ubyte.gz\n",
      "[[-1.4334959  -0.76011515 -1.3327067  -0.09457059 -0.01114367 -0.16859426\n",
      "   0.952611    0.10942791 -1.2817466  -0.7826921 ]\n",
      " [ 0.01969196  0.29250538  0.5686713   0.21260937 -1.3440645   0.3973139\n",
      "   0.09042579 -0.42369497 -0.06636701 -1.0330623 ]\n",
      " [ 1.7785219   0.7757135   0.15933594 -0.19476564 -0.22079286  0.94446707\n",
      "   0.32802245 -0.26924878 -0.7887764  -0.01541788]\n",
      " [ 1.0788614  -0.03137057 -0.8063443  -0.19644739  0.8241819   0.1460176\n",
      "  -0.23344086  0.01601024 -1.7146298  -0.29485235]\n",
      " [ 1.1814967   0.24996424 -0.3956877   0.45606297 -0.5989076   0.7897457\n",
      "   0.39256778  0.14799078 -1.1777437   0.13037804]]\n",
      "(5, 10)\n"
     ]
    }
   ],
   "source": [
    "import tensorflow as tf\n",
    "from tensorflow.examples.tutorials.mnist import input_data\n",
    "tf.reset_default_graph()\n",
    "\n",
    "# Load mnist dataset\n",
    "mnist = input_data.read_data_sets('MNIST_data', one_hot=True)\n",
    "\n",
    "# Define image input 784 = 28 * 28. Note that DNN input is a vector\n",
    "# [None, 784] mean that there are a batch of data and each of them is 784 dimension vector\n",
    "x = tf.placeholder(tf.float32, [None, 784])\n",
    "\n",
    "# Define label. There are totally 10 class (0-9)\n",
    "y = tf.placeholder(tf.float32, [None, 10])\n",
    "\n",
    "W = tf.Variable(tf.truncated_normal([784, 10], stddev=0.1))\n",
    "b = tf.Variable(tf.truncated_normal([10], stddev=0.1))\n",
    "y_predict = tf.matmul(x, W) + b\n",
    "\n",
    "\n",
    "with tf.Session() as sess:\n",
    "    sess.run(tf.global_variables_initializer())\n",
    "\n",
    "    batch_xs, batch_ys = mnist.train.next_batch(5)\n",
    "        \n",
    "    y_predict_ = sess.run(y_predict, feed_dict={x: batch_xs, y: batch_ys})\n",
    "    print(y_predict_)\n",
    "    print(y_predict_.shape)"
   ]
  },
  {
   "cell_type": "markdown",
   "metadata": {},
   "source": [
    "## 建立DNN神經網路模型 "
   ]
  },
  {
   "cell_type": "code",
   "execution_count": 11,
   "metadata": {},
   "outputs": [
    {
     "name": "stdout",
     "output_type": "stream",
     "text": [
      "Extracting MNIST_data\\train-images-idx3-ubyte.gz\n",
      "Extracting MNIST_data\\train-labels-idx1-ubyte.gz\n",
      "Extracting MNIST_data\\t10k-images-idx3-ubyte.gz\n",
      "Extracting MNIST_data\\t10k-labels-idx1-ubyte.gz\n",
      "[[0.00537947 0.07978871 0.         0.         0.03151332 0.27973643\n",
      "  0.04589504 0.         0.5698735  0.        ]\n",
      " [0.         0.         0.         0.         0.4519012  0.52777255\n",
      "  0.228033   0.         0.25697675 0.        ]\n",
      " [0.         0.         0.27386382 0.         0.09030299 0.27049312\n",
      "  0.00587577 0.         0.4377197  0.        ]\n",
      " [0.         0.25621703 0.0647132  0.         0.         0.5529596\n",
      "  0.26548126 0.14872824 0.28003764 0.        ]\n",
      " [0.         0.04047399 0.43868217 0.         0.         0.18563145\n",
      "  0.05248273 0.         0.40567395 0.02477902]]\n",
      "(5, 10)\n"
     ]
    }
   ],
   "source": [
    "import tensorflow as tf\n",
    "from tensorflow.examples.tutorials.mnist import input_data\n",
    "tf.reset_default_graph()\n",
    "\n",
    "mnist = input_data.read_data_sets('MNIST_data', one_hot=True)\n",
    "\n",
    "INPUT_NODE =784\n",
    "\n",
    "LAYER1_NODE = 128\n",
    "LAYER2_NODE = 64\n",
    "LAYER3_NODE = 10\n",
    "\n",
    "\n",
    "x = tf.placeholder(tf.float32, [None, 784])\n",
    "y = tf.placeholder(tf.float32, [None, 10])\n",
    "\n",
    "W1 = tf.Variable(tf.truncated_normal([INPUT_NODE, LAYER1_NODE], stddev=0.1))\n",
    "b1 = tf.Variable(tf.truncated_normal([LAYER1_NODE], stddev=0.1))\n",
    "W2 = tf.Variable(tf.truncated_normal([LAYER1_NODE, LAYER2_NODE], stddev=0.1))\n",
    "b2 = tf.Variable(tf.truncated_normal([LAYER2_NODE], stddev=0.1))\n",
    "W3 = tf.Variable(tf.truncated_normal([LAYER2_NODE, LAYER3_NODE], stddev=0.1))\n",
    "b3 = tf.Variable(tf.truncated_normal([LAYER3_NODE], stddev=0.1))\n",
    "\n",
    "layer_1 = tf.matmul(x, W1) + b1\n",
    "out1 = tf.nn.relu(layer_1)\n",
    "layer_2 = tf.matmul(out1, W2) + b2\n",
    "out2 = tf.nn.relu(layer_2)\n",
    "layer_3 = tf.matmul(out2, W3) + b3\n",
    "out3 = tf.nn.relu(layer_3)\n",
    "\n",
    "y_predict = out3\n",
    "\n",
    "\n",
    "with tf.Session() as sess:\n",
    "    sess.run(tf.global_variables_initializer())\n",
    "\n",
    "    batch_xs, batch_ys = mnist.train.next_batch(5)\n",
    "        \n",
    "    y_predict_ = sess.run(y_predict, feed_dict={x: batch_xs, y: batch_ys})\n",
    "    print(y_predict_)\n",
    "    print(y_predict_.shape)\n",
    "    "
   ]
  },
  {
   "cell_type": "code",
   "execution_count": null,
   "metadata": {
    "collapsed": true
   },
   "outputs": [],
   "source": []
  },
  {
   "cell_type": "code",
   "execution_count": null,
   "metadata": {
    "collapsed": true
   },
   "outputs": [],
   "source": []
  }
 ],
 "metadata": {
  "kernelspec": {
   "display_name": "Python 3",
   "language": "python",
   "name": "python3"
  },
  "language_info": {
   "codemirror_mode": {
    "name": "ipython",
    "version": 3
   },
   "file_extension": ".py",
   "mimetype": "text/x-python",
   "name": "python",
   "nbconvert_exporter": "python",
   "pygments_lexer": "ipython3",
   "version": "3.6.10"
  }
 },
 "nbformat": 4,
 "nbformat_minor": 2
}
