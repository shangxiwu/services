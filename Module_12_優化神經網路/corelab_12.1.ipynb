{
 "cells": [
  {
   "cell_type": "markdown",
   "metadata": {},
   "source": [
    "# 資料批次輸入網路"
   ]
  },
  {
   "cell_type": "code",
   "execution_count": null,
   "metadata": {},
   "outputs": [],
   "source": [
    "import tensorflow as tf\n",
    "from tensorflow.examples.tutorials.mnist import input_data"
   ]
  },
  {
   "cell_type": "markdown",
   "metadata": {},
   "source": [
    "## 請以100筆為單位，將其一次輸入DNN網路，並輸出Cross-Entropy值"
   ]
  },
  {
   "cell_type": "code",
   "execution_count": null,
   "metadata": {
    "scrolled": true
   },
   "outputs": [],
   "source": [
    "mnist = input_data.read_data_sets('MNIST_data', one_hot=True)\n",
    "\n",
    "INPUT_NODE =784\n",
    "\n",
    "LAYER1_NODE = 128\n",
    "LAYER2_NODE = 64\n",
    "LAYER3_NODE = 10\n",
    "\n",
    "\n",
    "x = tf.placeholder(tf.float32, [None, 784])\n",
    "y = tf.placeholder(tf.float32, [None, 10])\n",
    "\n",
    "W1 = tf.Variable(tf.truncated_normal([INPUT_NODE, LAYER1_NODE], stddev=0.1))\n",
    "b1 = tf.Variable(tf.truncated_normal([LAYER1_NODE], stddev=0.1))\n",
    "W2 = tf.Variable(tf.truncated_normal([LAYER1_NODE, LAYER2_NODE], stddev=0.1))\n",
    "b2 = tf.Variable(tf.truncated_normal([LAYER2_NODE], stddev=0.1))\n",
    "W3 = tf.Variable(tf.truncated_normal([LAYER2_NODE, LAYER3_NODE], stddev=0.1))\n",
    "b3 = tf.Variable(tf.truncated_normal([LAYER3_NODE], stddev=0.1))\n",
    "\n",
    "layer_1 = tf.matmul(x, W1) + b1\n",
    "out1 = tf.nn.relu(layer_1)\n",
    "layer_2 = tf.matmul(out1, W2) + b2\n",
    "out2 = tf.nn.relu(layer_2)\n",
    "layer_3 = tf.matmul(out2, W3) + b3\n",
    "out3 = tf.nn.relu(layer_3)\n",
    "\n",
    "y_predict = out3\n",
    "\n",
    "# note on this line\n",
    "cross_entropy = tf.reduce_mean(tf.nn.softmax_cross_entropy_with_logits(labels=y, logits=y_predict))\n",
    "\n",
    "with tf.Session() as sess:\n",
    "    sess.run(tf.global_variables_initializer())\n",
    "    batch_xs, batch_ys = #請補上批次輸入的程式碼\n",
    "        \n",
    "    cross_entropy_ = #請補上執行的程式碼\n",
    "    print(\"cross_entropy is {}\".format(cross_entropy_))"
   ]
  },
  {
   "cell_type": "code",
   "execution_count": null,
   "metadata": {},
   "outputs": [],
   "source": []
  }
 ],
 "metadata": {
  "kernelspec": {
   "display_name": "Python 3",
   "language": "python",
   "name": "python3"
  },
  "language_info": {
   "codemirror_mode": {
    "name": "ipython",
    "version": 3
   },
   "file_extension": ".py",
   "mimetype": "text/x-python",
   "name": "python",
   "nbconvert_exporter": "python",
   "pygments_lexer": "ipython3",
   "version": "3.6.10"
  }
 },
 "nbformat": 4,
 "nbformat_minor": 4
}
